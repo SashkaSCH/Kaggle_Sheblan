{
  "nbformat": 4,
  "nbformat_minor": 0,
  "metadata": {
    "colab": {
      "name": "Проект_1 (Computer_Vision).ipynb",
      "provenance": [],
      "authorship_tag": "ABX9TyOXcNMUaenJd0SKhLg4q7NW",
      "include_colab_link": true
    },
    "kernelspec": {
      "name": "python3",
      "display_name": "Python 3"
    },
    "language_info": {
      "name": "python"
    }
  },
  "cells": [
    {
      "cell_type": "markdown",
      "metadata": {
        "id": "view-in-github",
        "colab_type": "text"
      },
      "source": [
        "<a href=\"https://colab.research.google.com/github/SashkaSCH/Kaggle_Sheblan/blob/main/%D0%9F%D1%80%D0%BE%D0%B5%D0%BA%D1%82_1_(Computer_Vision).ipynb\" target=\"_parent\"><img src=\"https://colab.research.google.com/assets/colab-badge.svg\" alt=\"Open In Colab\"/></a>"
      ]
    },
    {
      "cell_type": "code",
      "metadata": {
        "id": "LcqYwFCJGiPU"
      },
      "source": [
        "from tensorflow.keras.datasets import fashion_mnist\n",
        "from tensorflow.keras.layers import Dense\n",
        "from tensorflow.keras.models import Sequential\n",
        "import numpy as np\n",
        "\n"
      ],
      "execution_count": 5,
      "outputs": []
    },
    {
      "cell_type": "code",
      "metadata": {
        "id": "s-gB1y_qM3XY"
      },
      "source": [
        "def load_train(path):\n",
        "    features_train = np.load(path + 'train_features.npy')\n",
        "    target_train = np.load(path + 'train_target.npy')\n",
        "    features_train = features_train.reshape(features_train.shape[0], 28 * 28) / 255.\n",
        "    return features_train, target_train"
      ],
      "execution_count": 6,
      "outputs": []
    },
    {
      "cell_type": "code",
      "metadata": {
        "id": "pikReuHpMnyX"
      },
      "source": [
        "def create_model(input_shape):\n",
        "    model = Sequential()\n",
        "    model.add(Dense(10, input_shape=input_shape, activation='softmax'))\n",
        "    model.compile(optimizer='sgd', loss='sparse_categorical_crossentropy',\n",
        "                  metrics=['acc'])\n",
        "\n",
        "    return model "
      ],
      "execution_count": 7,
      "outputs": []
    },
    {
      "cell_type": "code",
      "metadata": {
        "id": "HEvhpuQiMtS2"
      },
      "source": [
        "def train_model(model, train_data, test_data, batch_size=32, epochs=5,\n",
        "                steps_per_epoch=None, validation_steps=None):\n",
        "\n",
        "    features_train, target_train = train_data\n",
        "    features_test, target_test = test_data\n",
        "    model.fit(features_train, target_train, \n",
        "              validation_data=(features_test, target_test),\n",
        "              batch_size=batch_size, epochs=epochs,\n",
        "              steps_per_epoch=steps_per_epoch,\n",
        "              validation_steps=validation_steps,\n",
        "              verbose=2, shuffle=True)\n",
        "\n",
        "    return model"
      ],
      "execution_count": 8,
      "outputs": []
    },
    {
      "cell_type": "code",
      "metadata": {
        "id": "AN-HH6QeMzly"
      },
      "source": [
        ""
      ],
      "execution_count": null,
      "outputs": []
    }
  ]
}