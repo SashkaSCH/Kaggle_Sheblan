{
  "nbformat": 4,
  "nbformat_minor": 0,
  "metadata": {
    "colab": {
      "name": "Статистика.ipynb\"",
      "provenance": [],
      "authorship_tag": "ABX9TyMpRp1ZbBPxvF3sgGbmYShn",
      "include_colab_link": true
    },
    "kernelspec": {
      "name": "python3",
      "display_name": "Python 3"
    },
    "language_info": {
      "name": "python"
    }
  },
  "cells": [
    {
      "cell_type": "markdown",
      "metadata": {
        "id": "view-in-github",
        "colab_type": "text"
      },
      "source": [
        "<a href=\"https://colab.research.google.com/github/SashkaSCH/Kaggle_Sheblan/blob/main/%D0%A1%D1%82%D0%B0%D1%82%D0%B8%D1%81%D1%82%D0%B8%D0%BA%D0%B0.ipynb\" target=\"_parent\"><img src=\"https://colab.research.google.com/assets/colab-badge.svg\" alt=\"Open In Colab\"/></a>"
      ]
    },
    {
      "cell_type": "markdown",
      "metadata": {
        "id": "KakaavYk0imP"
      },
      "source": [
        "# Определение перспективного тарифа для телеком компании"
      ]
    },
    {
      "cell_type": "markdown",
      "metadata": {
        "id": "yxj3kfwaygXI"
      },
      "source": [
        "\n",
        "## Шаг 1. Откройте файл с данными и изучите общую информацию\n",
        "\n",
        "## Шаг 2. Подготовьте данные\n",
        " - Приведите данные к нужным типам;\n",
        " - Найдите и исправьте ошибки в данных, если они есть.\n",
        "- Поясните, какие ошибки вы нашли и как их исправили. В данных вы найдёте звонки с нулевой продолжительностью. Это не ошибка: нулями обозначены пропущенные звонки, поэтому их не нужно удалять.\n",
        "- Посчитайте для каждого пользователя:\n",
        "  - количество сделанных звонков и израсходованных минут разговора по месяцам;\n",
        "  - количество отправленных сообщений по месяцам;\n",
        "  - объем израсходованного интернет-трафика по месяцам;\n",
        "  - помесячную выручку с каждого пользователя (вычтите бесплатный лимит из суммарного количества звонков, сообщений и интернет-трафика; остаток умножьте на значение из тарифного плана; прибавьте абонентскую плату, соответствующую тарифному плану).\n",
        "\n",
        "## Шаг 3. Проанализируйте данные\n",
        "Опишите поведение клиентов оператора, исходя из выборки. Сколько минут разговора, сколько сообщений и какой объём интернет-трафика требуется пользователям каждого тарифа в месяц? Посчитайте среднее количество, дисперсию и стандартное отклонение. Постройте гистограммы. Опишите распределения.\n",
        "\n",
        "## Шаг 4. Проверьте гипотезы\n",
        " - средняя выручка пользователей тарифов «Ультра» и «Смарт» различаются;\n",
        " - средняя выручка пользователи из Москвы отличается от выручки пользователей из других регионов.\n",
        "Пороговое значение alpha задайте самостоятельно.\n",
        " - Поясните:\n",
        "как вы формулировали нулевую и альтернативную гипотезы;\n",
        "какой критерий использовали для проверки гипотез и почему.\n",
        "\n",
        "## Шаг 5. Напишите общий вывод\n",
        "Оформление: Задание выполните в Jupyter Notebook. Программный код заполните в ячейках типа code, текстовые пояснения — в ячейках типа markdown. Примените форматирование и заголовки.\n",
        "\n",
        "### Описание данных\n",
        "Таблица users (информация о пользователях):\n",
        " - user_id — уникальный идентификатор пользователя\n",
        " - first_name — имя пользователя\n",
        " - last_name — фамилия пользователя\n",
        " - age — возраст пользователя (годы)\n",
        " - reg_date — дата подключения тарифа (день, месяц, год)\n",
        " - churn_date — дата прекращения пользования тарифом (если значение пропущено, то тариф ещё действовал на момент выгрузки данных)\n",
        " - city — город проживания пользователя\n",
        " - tarif — название тарифного плана\n",
        "\n",
        "Таблица calls (информация о звонках):\n",
        " - id — уникальный номер звонка\n",
        " - call_date — дата звонка\n",
        " - duration — длительность звонка в минутах\n",
        " - user_id — идентификатор пользователя, сделавшего звонок\n",
        "\n",
        "Таблица messages (информация о сообщениях):\n",
        " - id — уникальный номер сообщения\n",
        " - message_date — дата сообщения\n",
        " - user_id — идентификатор пользователя, отправившего сообщение\n",
        "\n",
        "Таблица internet (информация об интернет-сессиях):\n",
        " - id — уникальный номер сессии\n",
        " - mb_used — объём потраченного за сессию интернет-трафика (в мегабайтах)\n",
        " - session_date — дата интернет-сессии\n",
        " - user_id — идентификатор пользователя\n",
        "\n",
        "Таблица tariffs (информация о тарифах):\n",
        " - tariff_name — название тарифа\n",
        " - rub_monthly_fee — ежемесячная абонентская плата в рублях\n",
        " - minutes_included — количество минут разговора в месяц, включённых в абонентскую плату\n",
        " - messages_included — количество сообщений в месяц, включённых в абонентскую плату\n",
        " - mb_per_month_included — объём интернет-трафика, включённого в абонентскую плату (в мегабайтах)\n",
        " - rub_per_minute — стоимость минуты разговора сверх тарифного пакета (например, если в тарифе 100 минут разговора в месяц, то со 101 минуты будет взиматься плата)\n",
        " - rub_per_message — стоимость отправки сообщения сверх тарифного пакета\n",
        " - rub_per_gb — стоимость дополнительного гигабайта интернет-трафика сверх тарифного пакета (1 гигабайт = 1024 мегабайта)"
      ]
    },
    {
      "cell_type": "code",
      "metadata": {
        "colab": {
          "base_uri": "https://localhost:8080/"
        },
        "id": "F2gjoAu0yh0t",
        "outputId": "337bf246-a17b-4055-ccf2-acaf431b3784"
      },
      "source": [
        "from google.colab import drive\n",
        "drive.mount('/content/gdrive')"
      ],
      "execution_count": null,
      "outputs": [
        {
          "output_type": "stream",
          "name": "stdout",
          "text": [
            "Mounted at /content/gdrive\n"
          ]
        }
      ]
    },
    {
      "cell_type": "code",
      "metadata": {
        "id": "UTjCrmzC15er"
      },
      "source": [
        "import pandas as pd"
      ],
      "execution_count": null,
      "outputs": []
    },
    {
      "cell_type": "markdown",
      "metadata": {
        "id": "7lRJLneX9Eai"
      },
      "source": [
        "# Добавим таблицы"
      ]
    },
    {
      "cell_type": "code",
      "metadata": {
        "colab": {
          "base_uri": "https://localhost:8080/"
        },
        "id": "kjyH7sJE8Ime",
        "outputId": "f593ba36-39b7-4405-dd39-75b6cbe5719f"
      },
      "source": [
        "calls = pd.read_csv('/content/gdrive/MyDrive/Статистика/calls.csv')\n",
        "calls.info()"
      ],
      "execution_count": null,
      "outputs": [
        {
          "output_type": "stream",
          "name": "stdout",
          "text": [
            "<class 'pandas.core.frame.DataFrame'>\n",
            "RangeIndex: 202607 entries, 0 to 202606\n",
            "Data columns (total 4 columns):\n",
            " #   Column     Non-Null Count   Dtype  \n",
            "---  ------     --------------   -----  \n",
            " 0   id         202607 non-null  object \n",
            " 1   call_date  202607 non-null  object \n",
            " 2   duration   202607 non-null  float64\n",
            " 3   user_id    202607 non-null  int64  \n",
            "dtypes: float64(1), int64(1), object(2)\n",
            "memory usage: 6.2+ MB\n"
          ]
        }
      ]
    },
    {
      "cell_type": "code",
      "metadata": {
        "colab": {
          "base_uri": "https://localhost:8080/"
        },
        "id": "FUw7lerG8IiH",
        "outputId": "1ed796ae-3303-4370-9ee5-eb7a7b3f018c"
      },
      "source": [
        "internet = pd.read_csv('/content/gdrive/MyDrive/Статистика/internet.csv')\n",
        "internet.info()"
      ],
      "execution_count": null,
      "outputs": [
        {
          "output_type": "stream",
          "name": "stdout",
          "text": [
            "<class 'pandas.core.frame.DataFrame'>\n",
            "RangeIndex: 149396 entries, 0 to 149395\n",
            "Data columns (total 5 columns):\n",
            " #   Column        Non-Null Count   Dtype  \n",
            "---  ------        --------------   -----  \n",
            " 0   Unnamed: 0    149396 non-null  int64  \n",
            " 1   id            149396 non-null  object \n",
            " 2   mb_used       149396 non-null  float64\n",
            " 3   session_date  149396 non-null  object \n",
            " 4   user_id       149396 non-null  int64  \n",
            "dtypes: float64(1), int64(2), object(2)\n",
            "memory usage: 5.7+ MB\n"
          ]
        }
      ]
    },
    {
      "cell_type": "code",
      "metadata": {
        "colab": {
          "base_uri": "https://localhost:8080/"
        },
        "id": "eCzYG0Ba8IbY",
        "outputId": "b6ec4a63-7bf4-4baf-d5a3-8bde0f420f82"
      },
      "source": [
        "messages = pd.read_csv('/content/gdrive/MyDrive/Статистика/messages.csv')\n",
        "messages.info()"
      ],
      "execution_count": null,
      "outputs": [
        {
          "output_type": "stream",
          "name": "stdout",
          "text": [
            "<class 'pandas.core.frame.DataFrame'>\n",
            "RangeIndex: 123036 entries, 0 to 123035\n",
            "Data columns (total 3 columns):\n",
            " #   Column        Non-Null Count   Dtype \n",
            "---  ------        --------------   ----- \n",
            " 0   id            123036 non-null  object\n",
            " 1   message_date  123036 non-null  object\n",
            " 2   user_id       123036 non-null  int64 \n",
            "dtypes: int64(1), object(2)\n",
            "memory usage: 2.8+ MB\n"
          ]
        }
      ]
    },
    {
      "cell_type": "markdown",
      "metadata": {
        "id": "6fr0hIHZ9mPi"
      },
      "source": [
        "Объединим таблицы `calls`, `internet`, `messages` по столбцу `id`"
      ]
    },
    {
      "cell_type": "code",
      "metadata": {
        "id": "0wGS6XSJ9kyK"
      },
      "source": [
        "table_1 = calls.merge(internet, how = 'inner', on='user_id')\n",
        "#table_2 = table_1.merge(messages, how = 'inner', on='id')\n",
        "table_1.info()"
      ],
      "execution_count": null,
      "outputs": []
    },
    {
      "cell_type": "code",
      "metadata": {
        "colab": {
          "base_uri": "https://localhost:8080/"
        },
        "id": "vuLIkigQ8IP1",
        "outputId": "b0735ce1-fb47-4bc0-be59-f6c62070a63b"
      },
      "source": [
        "tariffs = pd.read_csv('/content/gdrive/MyDrive/Статистика/tariffs.csv')\n",
        "tariffs.info()"
      ],
      "execution_count": null,
      "outputs": [
        {
          "output_type": "stream",
          "name": "stdout",
          "text": [
            "<class 'pandas.core.frame.DataFrame'>\n",
            "RangeIndex: 2 entries, 0 to 1\n",
            "Data columns (total 8 columns):\n",
            " #   Column                 Non-Null Count  Dtype \n",
            "---  ------                 --------------  ----- \n",
            " 0   messages_included      2 non-null      int64 \n",
            " 1   mb_per_month_included  2 non-null      int64 \n",
            " 2   minutes_included       2 non-null      int64 \n",
            " 3   rub_monthly_fee        2 non-null      int64 \n",
            " 4   rub_per_gb             2 non-null      int64 \n",
            " 5   rub_per_message        2 non-null      int64 \n",
            " 6   rub_per_minute         2 non-null      int64 \n",
            " 7   tariff_name            2 non-null      object\n",
            "dtypes: int64(7), object(1)\n",
            "memory usage: 256.0+ bytes\n"
          ]
        }
      ]
    },
    {
      "cell_type": "code",
      "metadata": {
        "colab": {
          "base_uri": "https://localhost:8080/"
        },
        "id": "1oYfhNSA88k9",
        "outputId": "3717cfa3-edc1-4de3-90ae-0fb64454557d"
      },
      "source": [
        "users = pd.read_csv('/content/gdrive/MyDrive/Статистика/users.csv')\n",
        "users.info()"
      ],
      "execution_count": null,
      "outputs": [
        {
          "output_type": "stream",
          "name": "stdout",
          "text": [
            "<class 'pandas.core.frame.DataFrame'>\n",
            "RangeIndex: 500 entries, 0 to 499\n",
            "Data columns (total 8 columns):\n",
            " #   Column      Non-Null Count  Dtype \n",
            "---  ------      --------------  ----- \n",
            " 0   user_id     500 non-null    int64 \n",
            " 1   age         500 non-null    int64 \n",
            " 2   churn_date  38 non-null     object\n",
            " 3   city        500 non-null    object\n",
            " 4   first_name  500 non-null    object\n",
            " 5   last_name   500 non-null    object\n",
            " 6   reg_date    500 non-null    object\n",
            " 7   tariff      500 non-null    object\n",
            "dtypes: int64(2), object(6)\n",
            "memory usage: 31.4+ KB\n"
          ]
        }
      ]
    },
    {
      "cell_type": "code",
      "metadata": {
        "id": "tb9p3sje9DYc"
      },
      "source": [
        ""
      ],
      "execution_count": null,
      "outputs": []
    },
    {
      "cell_type": "code",
      "metadata": {
        "colab": {
          "base_uri": "https://localhost:8080/"
        },
        "id": "9z7pEZ7m7vBr",
        "outputId": "2eae6d91-0e2e-4f31-d16d-0e81032decfe"
      },
      "source": [
        "help(pd.merge)\n"
      ],
      "execution_count": null,
      "outputs": [
        {
          "output_type": "stream",
          "name": "stdout",
          "text": [
            "Help on function merge in module pandas.core.reshape.merge:\n",
            "\n",
            "merge(left, right, how: str = 'inner', on=None, left_on=None, right_on=None, left_index: bool = False, right_index: bool = False, sort: bool = False, suffixes=('_x', '_y'), copy: bool = True, indicator: bool = False, validate=None) -> 'DataFrame'\n",
            "    Merge DataFrame or named Series objects with a database-style join.\n",
            "    \n",
            "    The join is done on columns or indexes. If joining columns on\n",
            "    columns, the DataFrame indexes *will be ignored*. Otherwise if joining indexes\n",
            "    on indexes or indexes on a column or columns, the index will be passed on.\n",
            "    \n",
            "    Parameters\n",
            "    ----------\n",
            "    left : DataFrame\n",
            "    right : DataFrame or named Series\n",
            "        Object to merge with.\n",
            "    how : {'left', 'right', 'outer', 'inner'}, default 'inner'\n",
            "        Type of merge to be performed.\n",
            "    \n",
            "        * left: use only keys from left frame, similar to a SQL left outer join;\n",
            "          preserve key order.\n",
            "        * right: use only keys from right frame, similar to a SQL right outer join;\n",
            "          preserve key order.\n",
            "        * outer: use union of keys from both frames, similar to a SQL full outer\n",
            "          join; sort keys lexicographically.\n",
            "        * inner: use intersection of keys from both frames, similar to a SQL inner\n",
            "          join; preserve the order of the left keys.\n",
            "    on : label or list\n",
            "        Column or index level names to join on. These must be found in both\n",
            "        DataFrames. If `on` is None and not merging on indexes then this defaults\n",
            "        to the intersection of the columns in both DataFrames.\n",
            "    left_on : label or list, or array-like\n",
            "        Column or index level names to join on in the left DataFrame. Can also\n",
            "        be an array or list of arrays of the length of the left DataFrame.\n",
            "        These arrays are treated as if they are columns.\n",
            "    right_on : label or list, or array-like\n",
            "        Column or index level names to join on in the right DataFrame. Can also\n",
            "        be an array or list of arrays of the length of the right DataFrame.\n",
            "        These arrays are treated as if they are columns.\n",
            "    left_index : bool, default False\n",
            "        Use the index from the left DataFrame as the join key(s). If it is a\n",
            "        MultiIndex, the number of keys in the other DataFrame (either the index\n",
            "        or a number of columns) must match the number of levels.\n",
            "    right_index : bool, default False\n",
            "        Use the index from the right DataFrame as the join key. Same caveats as\n",
            "        left_index.\n",
            "    sort : bool, default False\n",
            "        Sort the join keys lexicographically in the result DataFrame. If False,\n",
            "        the order of the join keys depends on the join type (how keyword).\n",
            "    suffixes : list-like, default is (\"_x\", \"_y\")\n",
            "        A length-2 sequence where each element is optionally a string\n",
            "        indicating the suffix to add to overlapping column names in\n",
            "        `left` and `right` respectively. Pass a value of `None` instead\n",
            "        of a string to indicate that the column name from `left` or\n",
            "        `right` should be left as-is, with no suffix. At least one of the\n",
            "        values must not be None.\n",
            "    copy : bool, default True\n",
            "        If False, avoid copy if possible.\n",
            "    indicator : bool or str, default False\n",
            "        If True, adds a column to the output DataFrame called \"_merge\" with\n",
            "        information on the source of each row. The column can be given a different\n",
            "        name by providing a string argument. The column will have a Categorical\n",
            "        type with the value of \"left_only\" for observations whose merge key only\n",
            "        appears in the left DataFrame, \"right_only\" for observations\n",
            "        whose merge key only appears in the right DataFrame, and \"both\"\n",
            "        if the observation's merge key is found in both DataFrames.\n",
            "    \n",
            "    validate : str, optional\n",
            "        If specified, checks if merge is of specified type.\n",
            "    \n",
            "        * \"one_to_one\" or \"1:1\": check if merge keys are unique in both\n",
            "          left and right datasets.\n",
            "        * \"one_to_many\" or \"1:m\": check if merge keys are unique in left\n",
            "          dataset.\n",
            "        * \"many_to_one\" or \"m:1\": check if merge keys are unique in right\n",
            "          dataset.\n",
            "        * \"many_to_many\" or \"m:m\": allowed, but does not result in checks.\n",
            "    \n",
            "    Returns\n",
            "    -------\n",
            "    DataFrame\n",
            "        A DataFrame of the two merged objects.\n",
            "    \n",
            "    See Also\n",
            "    --------\n",
            "    merge_ordered : Merge with optional filling/interpolation.\n",
            "    merge_asof : Merge on nearest keys.\n",
            "    DataFrame.join : Similar method using indices.\n",
            "    \n",
            "    Notes\n",
            "    -----\n",
            "    Support for specifying index levels as the `on`, `left_on`, and\n",
            "    `right_on` parameters was added in version 0.23.0\n",
            "    Support for merging named Series objects was added in version 0.24.0\n",
            "    \n",
            "    Examples\n",
            "    --------\n",
            "    >>> df1 = pd.DataFrame({'lkey': ['foo', 'bar', 'baz', 'foo'],\n",
            "    ...                     'value': [1, 2, 3, 5]})\n",
            "    >>> df2 = pd.DataFrame({'rkey': ['foo', 'bar', 'baz', 'foo'],\n",
            "    ...                     'value': [5, 6, 7, 8]})\n",
            "    >>> df1\n",
            "        lkey value\n",
            "    0   foo      1\n",
            "    1   bar      2\n",
            "    2   baz      3\n",
            "    3   foo      5\n",
            "    >>> df2\n",
            "        rkey value\n",
            "    0   foo      5\n",
            "    1   bar      6\n",
            "    2   baz      7\n",
            "    3   foo      8\n",
            "    \n",
            "    Merge df1 and df2 on the lkey and rkey columns. The value columns have\n",
            "    the default suffixes, _x and _y, appended.\n",
            "    \n",
            "    >>> df1.merge(df2, left_on='lkey', right_on='rkey')\n",
            "      lkey  value_x rkey  value_y\n",
            "    0  foo        1  foo        5\n",
            "    1  foo        1  foo        8\n",
            "    2  foo        5  foo        5\n",
            "    3  foo        5  foo        8\n",
            "    4  bar        2  bar        6\n",
            "    5  baz        3  baz        7\n",
            "    \n",
            "    Merge DataFrames df1 and df2 with specified left and right suffixes\n",
            "    appended to any overlapping columns.\n",
            "    \n",
            "    >>> df1.merge(df2, left_on='lkey', right_on='rkey',\n",
            "    ...           suffixes=('_left', '_right'))\n",
            "      lkey  value_left rkey  value_right\n",
            "    0  foo           1  foo            5\n",
            "    1  foo           1  foo            8\n",
            "    2  foo           5  foo            5\n",
            "    3  foo           5  foo            8\n",
            "    4  bar           2  bar            6\n",
            "    5  baz           3  baz            7\n",
            "    \n",
            "    Merge DataFrames df1 and df2, but raise an exception if the DataFrames have\n",
            "    any overlapping columns.\n",
            "    \n",
            "    >>> df1.merge(df2, left_on='lkey', right_on='rkey', suffixes=(False, False))\n",
            "    Traceback (most recent call last):\n",
            "    ...\n",
            "    ValueError: columns overlap but no suffix specified:\n",
            "        Index(['value'], dtype='object')\n",
            "\n"
          ]
        }
      ]
    },
    {
      "cell_type": "code",
      "metadata": {
        "id": "hXMypWn_7yni"
      },
      "source": [
        ""
      ],
      "execution_count": null,
      "outputs": []
    }
  ]
}